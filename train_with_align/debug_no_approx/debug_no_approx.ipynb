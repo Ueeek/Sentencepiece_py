{
 "cells": [
  {
   "cell_type": "code",
   "execution_count": 1,
   "metadata": {},
   "outputs": [],
   "source": [
    "import pickle"
   ]
  },
  {
   "cell_type": "code",
   "execution_count": 2,
   "metadata": {},
   "outputs": [
    {
     "name": "stdout",
     "output_type": "stream",
     "text": [
      " 0_src_step1_mstep0.pickle            2424_src_step2_mstep1.pickle\n",
      " 0_tgt_step1_mstep0.pickle            4777_src_step2_prune.pickle\n",
      " 1_src_step1_mstep1.pickle            4777_src_step2_pruneloss.pickle\n",
      " 1_tgt_step1_mstep1.pickle            4778_src_step2_pruneloss_diff.pickle\n",
      "11393_src_step2_pruneloss.pickle      4778_src_step3_mstep0.pickle\n",
      "11393_tgt_step2_prune.pickle          4779_src_step3_mstep1.pickle\n",
      "11394_tgt_step2_pruneloss_diff.pickle 7084_src_step3_prune.pickle\n",
      "11394_tgt_step3_mstep0.pickle         7084_src_step3_pruneloss.pickle\n",
      "11395_tgt_step3_mstep1.pickle         7085_src_step3_pruneloss_diff.pickle\n",
      "13460_src_step3_pruneloss.pickle      7085_src_step4_mstep0.pickle\n",
      "13460_tgt_step3_prune.pickle          7086_src_step4_mstep1.pickle\n",
      "13461_tgt_step3_pruneloss_diff.pickle 7087_finalized_piece.pickle\n",
      "13461_tgt_step4_mstep0.pickle         7090_src_step1_pruneloss.pickle\n",
      "13462_tgt_step4_mstep1.pickle         7090_tgt_step1_prune.pickle\n",
      "13463_finalized_piece.pickle          7091_tgt_step1_pruneloss_diff.pickle\n",
      "2422_src_step1_prune.pickle           7091_tgt_step2_mstep0.pickle\n",
      "2422_src_step1_pruneloss.pickle       7092_tgt_step2_mstep1.pickle\n",
      "2423_src_step1_pruneloss_diff.pickle  debug_no_approx.ipynb\n",
      "2423_src_step2_mstep0.pickle          jap.voc\n"
     ]
    }
   ],
   "source": [
    "!ls"
   ]
  },
  {
   "cell_type": "code",
   "execution_count": 18,
   "metadata": {},
   "outputs": [],
   "source": [
    "prune_files = ! ls | grep prune | grep -v pruneloss\n",
    "prune_losses = ! ls | grep pruneloss | grep -v diff\n",
    "prune_loss_diffs = ! ls | grep pruneloss | grep diff"
   ]
  },
  {
   "cell_type": "code",
   "execution_count": 19,
   "metadata": {},
   "outputs": [
    {
     "data": {
      "text/plain": [
       "['11393_tgt_step2_prune.pickle',\n",
       " '13460_tgt_step3_prune.pickle',\n",
       " '2422_src_step1_prune.pickle',\n",
       " '4777_src_step2_prune.pickle',\n",
       " '7084_src_step3_prune.pickle',\n",
       " '7090_tgt_step1_prune.pickle']"
      ]
     },
     "execution_count": 19,
     "metadata": {},
     "output_type": "execute_result"
    }
   ],
   "source": [
    "prune_files"
   ]
  },
  {
   "cell_type": "code",
   "execution_count": 31,
   "metadata": {},
   "outputs": [
    {
     "data": {
      "text/plain": [
       "['11393_src_step2_pruneloss.pickle',\n",
       " '13460_src_step3_pruneloss.pickle',\n",
       " '2422_src_step1_pruneloss.pickle',\n",
       " '4777_src_step2_pruneloss.pickle',\n",
       " '7084_src_step3_pruneloss.pickle',\n",
       " '7090_src_step1_pruneloss.pickle']"
      ]
     },
     "execution_count": 31,
     "metadata": {},
     "output_type": "execute_result"
    }
   ],
   "source": [
    "prune_losses"
   ]
  },
  {
   "cell_type": "code",
   "execution_count": 21,
   "metadata": {},
   "outputs": [
    {
     "data": {
      "text/plain": [
       "['11394_tgt_step2_pruneloss_diff.pickle',\n",
       " '13461_tgt_step3_pruneloss_diff.pickle',\n",
       " '2423_src_step1_pruneloss_diff.pickle',\n",
       " '4778_src_step2_pruneloss_diff.pickle',\n",
       " '7085_src_step3_pruneloss_diff.pickle',\n",
       " '7091_tgt_step1_pruneloss_diff.pickle']"
      ]
     },
     "execution_count": 21,
     "metadata": {},
     "output_type": "execute_result"
    }
   ],
   "source": [
    "prune_loss_diffs"
   ]
  },
  {
   "cell_type": "code",
   "execution_count": 32,
   "metadata": {},
   "outputs": [],
   "source": [
    "prune_pics=[]\n",
    "for file in prune_files:\n",
    "    with open(file,\"rb\") as f:\n",
    "        prune_pics.append(pickle.load(f))"
   ]
  },
  {
   "cell_type": "code",
   "execution_count": 33,
   "metadata": {},
   "outputs": [],
   "source": [
    "prune_losses_pics=[]\n",
    "for file in prune_losses:\n",
    "    with open(file,\"rb\") as f:\n",
    "        prune_losses_pics.append(pickle.load(f))"
   ]
  },
  {
   "cell_type": "code",
   "execution_count": 39,
   "metadata": {},
   "outputs": [],
   "source": [
    "prune_loss_diff_pics=[]\n",
    "for file in prune_loss_diffs:\n",
    "    with open(file,\"rb\") as f:\n",
    "        prune_loss_diff_pics.append(pickle.load(f))"
   ]
  },
  {
   "cell_type": "code",
   "execution_count": 35,
   "metadata": {},
   "outputs": [
    {
     "name": "stdout",
     "output_type": "stream",
     "text": [
      "bef:167.12404221417208 af:188.8198032781941\n",
      "bef:184.280769584405 af:185.8120731090546\n",
      "bef:12.358078228305706 af:12.376579065338998\n",
      "bef:12.315744619145333 af:12.320292252436737\n",
      "bef:12.310814545356193 af:12.313681586157571\n",
      "bef:154.95434599765537 af:170.32645776350856\n"
     ]
    }
   ],
   "source": [
    "#\n",
    "for p in prune_pics:\n",
    "    print(\"bef:{} af:{}\".format(p[\"obj_before\"],p[\"obj_after\"]))"
   ]
  },
  {
   "cell_type": "code",
   "execution_count": null,
   "metadata": {},
   "outputs": [],
   "source": [
    "#\n",
    "for p in prune_losses_pics:\n",
    "    print(p)\n",
    "    break"
   ]
  },
  {
   "cell_type": "code",
   "execution_count": 41,
   "metadata": {},
   "outputs": [
    {
     "name": "stdout",
     "output_type": "stream",
     "text": [
      "{'algin_before': -2.577872999232392, 'align_after': -2.9159435332723658, 'gain': -0.33807053403997367}\n",
      "{'algin_before': -2.625971301362985, 'align_after': -2.9198961715256186, 'gain': -0.2939248701626336}\n",
      "{'algin_before': -2.942555540648982, 'align_after': -2.9249067879620703, 'gain': 0.017648752686911795}\n",
      "{'algin_before': -2.9195999037799933, 'align_after': -2.9159435332723658, 'gain': 0.003656370507627571}\n",
      "{'algin_before': -2.9172953744775763, 'align_after': -2.9198961715256186, 'gain': -0.0026007970480423914}\n",
      "{'algin_before': -2.5522699175197494, 'align_after': -2.9249067879620703, 'gain': -0.37263687044232086}\n"
     ]
    }
   ],
   "source": [
    "for p in prune_loss_diff_pics:\n",
    "    print(p)"
   ]
  },
  {
   "cell_type": "code",
   "execution_count": null,
   "metadata": {},
   "outputs": [],
   "source": []
  }
 ],
 "metadata": {
  "kernelspec": {
   "display_name": "Python 3",
   "language": "python",
   "name": "python3"
  },
  "language_info": {
   "codemirror_mode": {
    "name": "ipython",
    "version": 3
   },
   "file_extension": ".py",
   "mimetype": "text/x-python",
   "name": "python",
   "nbconvert_exporter": "python",
   "pygments_lexer": "ipython3",
   "version": "3.7.3"
  }
 },
 "nbformat": 4,
 "nbformat_minor": 4
}
