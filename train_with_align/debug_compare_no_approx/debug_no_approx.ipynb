{
 "cells": [
  {
   "cell_type": "code",
   "execution_count": 1,
   "metadata": {},
   "outputs": [],
   "source": [
    "import pickle"
   ]
  },
  {
   "cell_type": "code",
   "execution_count": 2,
   "metadata": {},
   "outputs": [
    {
     "name": "stdout",
     "output_type": "stream",
     "text": [
      " 0_src_step1_mstep0.pickle             3547_src_step4_mstep0.pickle\n",
      " 0_tgt_step1_mstep0.pickle             3547_tgt_step1_pruneloss_diff.pickle\n",
      " 1_src_step1_mstep1.pickle             3547_tgt_step2_mstep0.pickle\n",
      " 1_tgt_step1_mstep1.pickle             3548_src_step4_mstep1.pickle\n",
      "1212_src_step1_approx_no_approx.pickle 3548_tgt_step2_mstep1.pickle\n",
      "1212_src_step1_prune.pickle            3549_finalized_piece.pickle\n",
      "1212_src_step1_pruneloss.pickle        5697_tgt_step2_approx_no_approx.pickle\n",
      "1213_src_step1_pruneloss_diff.pickle   5697_tgt_step2_prune.pickle\n",
      "1213_src_step2_mstep0.pickle           5697_tgt_step2_pruneloss.pickle\n",
      "1214_src_step2_mstep1.pickle           5698_tgt_step2_pruneloss_diff.pickle\n",
      "2391_src_step2_approx_no_approx.pickle 5698_tgt_step3_mstep0.pickle\n",
      "2391_src_step2_prune.pickle            5699_tgt_step3_mstep1.pickle\n",
      "2391_src_step2_pruneloss.pickle        6730_tgt_step3_approx_no_approx.pickle\n",
      "2392_src_step2_pruneloss_diff.pickle   6730_tgt_step3_prune.pickle\n",
      "2392_src_step3_mstep0.pickle           6730_tgt_step3_pruneloss.pickle\n",
      "2393_src_step3_mstep1.pickle           6731_tgt_step3_pruneloss_diff.pickle\n",
      "3546_src_step3_approx_no_approx.pickle 6731_tgt_step4_mstep0.pickle\n",
      "3546_src_step3_prune.pickle            6732_tgt_step4_mstep1.pickle\n",
      "3546_src_step3_pruneloss.pickle        6733_finalized_piece.pickle\n",
      "3546_tgt_step1_approx_no_approx.pickle coref_approx_noapprox.ipynb\n",
      "3546_tgt_step1_prune.pickle            debug_no_approx.ipynb\n",
      "3546_tgt_step1_pruneloss.pickle        jap.voc\n",
      "3547_src_step3_pruneloss_diff.pickle\n"
     ]
    }
   ],
   "source": [
    "!ls"
   ]
  },
  {
   "cell_type": "code",
   "execution_count": 3,
   "metadata": {},
   "outputs": [
    {
     "name": "stdout",
     "output_type": "stream",
     "text": [
      " 0_src_step1_mstep0.pickle             3547_src_step4_mstep0.pickle\n",
      " 0_tgt_step1_mstep0.pickle             3547_tgt_step1_pruneloss_diff.pickle\n",
      " 1_src_step1_mstep1.pickle             3547_tgt_step2_mstep0.pickle\n",
      " 1_tgt_step1_mstep1.pickle             3548_src_step4_mstep1.pickle\n",
      "1212_src_step1_approx_no_approx.pickle 3548_tgt_step2_mstep1.pickle\n",
      "1212_src_step1_prune.pickle            3549_finalized_piece.pickle\n",
      "1212_src_step1_pruneloss.pickle        5697_tgt_step2_approx_no_approx.pickle\n",
      "1213_src_step1_pruneloss_diff.pickle   5697_tgt_step2_prune.pickle\n",
      "1213_src_step2_mstep0.pickle           5697_tgt_step2_pruneloss.pickle\n",
      "1214_src_step2_mstep1.pickle           5698_tgt_step2_pruneloss_diff.pickle\n",
      "2391_src_step2_approx_no_approx.pickle 5698_tgt_step3_mstep0.pickle\n",
      "2391_src_step2_prune.pickle            5699_tgt_step3_mstep1.pickle\n",
      "2391_src_step2_pruneloss.pickle        6730_tgt_step3_approx_no_approx.pickle\n",
      "2392_src_step2_pruneloss_diff.pickle   6730_tgt_step3_prune.pickle\n",
      "2392_src_step3_mstep0.pickle           6730_tgt_step3_pruneloss.pickle\n",
      "2393_src_step3_mstep1.pickle           6731_tgt_step3_pruneloss_diff.pickle\n",
      "3546_src_step3_approx_no_approx.pickle 6731_tgt_step4_mstep0.pickle\n",
      "3546_src_step3_prune.pickle            6732_tgt_step4_mstep1.pickle\n",
      "3546_src_step3_pruneloss.pickle        6733_finalized_piece.pickle\n",
      "3546_tgt_step1_approx_no_approx.pickle coref_approx_noapprox.ipynb\n",
      "3546_tgt_step1_prune.pickle            debug_no_approx.ipynb\n",
      "3546_tgt_step1_pruneloss.pickle        jap.voc\n",
      "3547_src_step3_pruneloss_diff.pickle\n"
     ]
    }
   ],
   "source": [
    "!ls"
   ]
  },
  {
   "cell_type": "code",
   "execution_count": 8,
   "metadata": {},
   "outputs": [],
   "source": [
    "prune_files = ! ls | grep prune | grep -v pruneloss\n",
    "prune_losses = ! ls | grep pruneloss | grep -v diff\n",
    "prune_loss_diffs = ! ls | grep pruneloss | grep diff"
   ]
  },
  {
   "cell_type": "code",
   "execution_count": 9,
   "metadata": {},
   "outputs": [
    {
     "data": {
      "text/plain": [
       "['1212_src_step1_prune.pickle',\n",
       " '2391_src_step2_prune.pickle',\n",
       " '3546_src_step3_prune.pickle',\n",
       " '3546_tgt_step1_prune.pickle',\n",
       " '5697_tgt_step2_prune.pickle',\n",
       " '6730_tgt_step3_prune.pickle']"
      ]
     },
     "execution_count": 9,
     "metadata": {},
     "output_type": "execute_result"
    }
   ],
   "source": [
    "prune_files"
   ]
  },
  {
   "cell_type": "code",
   "execution_count": 10,
   "metadata": {},
   "outputs": [
    {
     "data": {
      "text/plain": [
       "['1212_src_step1_pruneloss.pickle',\n",
       " '2391_src_step2_pruneloss.pickle',\n",
       " '3546_src_step3_pruneloss.pickle',\n",
       " '3546_tgt_step1_pruneloss.pickle',\n",
       " '5697_tgt_step2_pruneloss.pickle',\n",
       " '6730_tgt_step3_pruneloss.pickle']"
      ]
     },
     "execution_count": 10,
     "metadata": {},
     "output_type": "execute_result"
    }
   ],
   "source": [
    "prune_losses"
   ]
  },
  {
   "cell_type": "code",
   "execution_count": 11,
   "metadata": {},
   "outputs": [
    {
     "data": {
      "text/plain": [
       "['1213_src_step1_pruneloss_diff.pickle',\n",
       " '2392_src_step2_pruneloss_diff.pickle',\n",
       " '3547_src_step3_pruneloss_diff.pickle',\n",
       " '3547_tgt_step1_pruneloss_diff.pickle',\n",
       " '5698_tgt_step2_pruneloss_diff.pickle',\n",
       " '6731_tgt_step3_pruneloss_diff.pickle']"
      ]
     },
     "execution_count": 11,
     "metadata": {},
     "output_type": "execute_result"
    }
   ],
   "source": [
    "prune_loss_diffs"
   ]
  },
  {
   "cell_type": "code",
   "execution_count": 12,
   "metadata": {},
   "outputs": [],
   "source": [
    "prune_pics=[]\n",
    "for file in prune_files:\n",
    "    with open(file,\"rb\") as f:\n",
    "        prune_pics.append(pickle.load(f))"
   ]
  },
  {
   "cell_type": "code",
   "execution_count": 13,
   "metadata": {},
   "outputs": [],
   "source": [
    "prune_losses_pics=[]\n",
    "for file in prune_losses:\n",
    "    with open(file,\"rb\") as f:\n",
    "        prune_losses_pics.append(pickle.load(f))"
   ]
  },
  {
   "cell_type": "code",
   "execution_count": 14,
   "metadata": {},
   "outputs": [],
   "source": [
    "prune_loss_diff_pics=[]\n",
    "for file in prune_loss_diffs:\n",
    "    with open(file,\"rb\") as f:\n",
    "        prune_loss_diff_pics.append((file,pickle.load(f)))"
   ]
  },
  {
   "cell_type": "code",
   "execution_count": 15,
   "metadata": {},
   "outputs": [
    {
     "name": "stdout",
     "output_type": "stream",
     "text": [
      "bef:12.358078228305706 af:12.376579065338998\n",
      "bef:12.315744619145333 af:12.32029225243674\n",
      "bef:12.310814545356132 af:12.313681586157513\n",
      "bef:154.95434599765537 af:170.3949629841373\n",
      "bef:167.0079819397697 af:192.20181325029168\n",
      "bef:186.92761853124594 af:188.14215901660538\n"
     ]
    }
   ],
   "source": [
    "#\n",
    "for p in prune_pics:\n",
    "    print(\"bef:{} af:{}\".format(p[\"obj_before\"],p[\"obj_after\"]))"
   ]
  },
  {
   "cell_type": "code",
   "execution_count": 16,
   "metadata": {},
   "outputs": [
    {
     "name": "stdout",
     "output_type": "stream",
     "text": [
      "remain\n",
      "{'▁6': {'LM_loss': 0.00354746607327108, 'Align_loss': -0.28022467577667437, 'Joint_loss': -0.13833860485170166}}\n",
      "remove\n",
      "{}\n"
     ]
    }
   ],
   "source": [
    "#\n",
    "for p in prune_losses_pics:\n",
    "    print(\"remain\")\n",
    "    print(p[\"remain\"])\n",
    "    print(\"remove\")\n",
    "    print(p[\"remove\"])\n",
    "    break"
   ]
  },
  {
   "cell_type": "code",
   "execution_count": 20,
   "metadata": {},
   "outputs": [
    {
     "name": "stdout",
     "output_type": "stream",
     "text": [
      "{'algin_before': -2.5522699175197494, 'align_after': -2.925789495391674, 'gain': -0.37351957787192447}\n",
      "{'algin_before': -2.5646428677713655, 'align_after': -2.906526384890006, 'gain': -0.3418835171186405}\n",
      "{'algin_before': -2.615163336870818, 'align_after': -2.9054927065412577, 'gain': -0.2903293696704399}\n"
     ]
    }
   ],
   "source": [
    "for file,p in prune_loss_diff_pics:\n",
    "    if \"tgt\" in file:\n",
    "        print(p)"
   ]
  },
  {
   "cell_type": "code",
   "execution_count": null,
   "metadata": {},
   "outputs": [],
   "source": []
  }
 ],
 "metadata": {
  "kernelspec": {
   "display_name": "Python 3",
   "language": "python",
   "name": "python3"
  },
  "language_info": {
   "codemirror_mode": {
    "name": "ipython",
    "version": 3
   },
   "file_extension": ".py",
   "mimetype": "text/x-python",
   "name": "python",
   "nbconvert_exporter": "python",
   "pygments_lexer": "ipython3",
   "version": "3.7.3"
  }
 },
 "nbformat": 4,
 "nbformat_minor": 4
}
