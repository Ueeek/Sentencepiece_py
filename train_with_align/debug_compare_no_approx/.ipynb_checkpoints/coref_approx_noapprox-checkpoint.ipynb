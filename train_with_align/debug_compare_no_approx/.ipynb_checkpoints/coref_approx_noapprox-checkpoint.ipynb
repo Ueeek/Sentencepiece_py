{
 "cells": [
  {
   "cell_type": "code",
   "execution_count": null,
   "metadata": {},
   "outputs": [],
   "source": [
    "D=\"./debug_compare_no_approx\""
   ]
  },
  {
   "cell_type": "code",
   "execution_count": 13,
   "metadata": {},
   "outputs": [],
   "source": [
    "import pickle\n",
    "import numpy as np"
   ]
  },
  {
   "cell_type": "code",
   "execution_count": null,
   "metadata": {},
   "outputs": [],
   "source": []
  },
  {
   "cell_type": "code",
   "execution_count": 9,
   "metadata": {},
   "outputs": [],
   "source": [
    "files=! ls | grep approx"
   ]
  },
  {
   "cell_type": "code",
   "execution_count": 10,
   "metadata": {},
   "outputs": [],
   "source": [
    "ps=[]\n",
    "for file in files:\n",
    "    with open(file,\"rb\") as f:\n",
    "        ps.append(pickle.load(f))"
   ]
  },
  {
   "cell_type": "code",
   "execution_count": 17,
   "metadata": {},
   "outputs": [
    {
     "name": "stdout",
     "output_type": "stream",
     "text": [
      "[[1.         0.21518698]\n",
      " [0.21518698 1.        ]]\n",
      "[[1.         0.22977358]\n",
      " [0.22977358 1.        ]]\n",
      "[[1.         0.27633795]\n",
      " [0.27633795 1.        ]]\n",
      "[[ 1.         -0.07059846]\n",
      " [-0.07059846  1.        ]]\n",
      "[[1.         0.02145927]\n",
      " [0.02145927 1.        ]]\n",
      "[[1.         0.10458662]\n",
      " [0.10458662 1.        ]]\n"
     ]
    }
   ],
   "source": [
    "for p in ps:\n",
    "    X=[]\n",
    "    Y=[]\n",
    "    for key in p.keys():\n",
    "        X.append(p[key][\"approx\"])\n",
    "        Y.append(p[key][\"no_approx\"])\n",
    "    Xnp=np.array(X)\n",
    "    Ynp=np.array(Y)\n",
    "    print(np.corrcoef(Xnp,Ynp))\n",
    "        "
   ]
  },
  {
   "cell_type": "code",
   "execution_count": null,
   "metadata": {},
   "outputs": [],
   "source": []
  }
 ],
 "metadata": {
  "kernelspec": {
   "display_name": "Python 3",
   "language": "python",
   "name": "python3"
  },
  "language_info": {
   "codemirror_mode": {
    "name": "ipython",
    "version": 3
   },
   "file_extension": ".py",
   "mimetype": "text/x-python",
   "name": "python",
   "nbconvert_exporter": "python",
   "pygments_lexer": "ipython3",
   "version": "3.7.4"
  }
 },
 "nbformat": 4,
 "nbformat_minor": 4
}
