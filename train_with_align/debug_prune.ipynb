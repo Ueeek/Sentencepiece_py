{
 "cells": [
  {
   "cell_type": "code",
   "execution_count": 41,
   "metadata": {},
   "outputs": [],
   "source": [
    "import pickle\n",
    "from collections import defaultdict"
   ]
  },
  {
   "cell_type": "code",
   "execution_count": 42,
   "metadata": {},
   "outputs": [],
   "source": [
    "di=\"./debug/\""
   ]
  },
  {
   "cell_type": "code",
   "execution_count": 43,
   "metadata": {},
   "outputs": [
    {
     "name": "stdout",
     "output_type": "stream",
     "text": [
      " 1_src_step1_mstep0.pickle          8_src_step3_mstep1.pickle\n",
      " 1_tgt_step1_mstep0.pickle          8_tgt_step3_mstep1.pickle\n",
      " 2_src_step1_mstep1.pickle          9_src_step3_prune.pickle\n",
      " 2_tgt_step1_mstep1.pickle          9_src_step3_pruneloss.pickle\n",
      " 3_src_step1_prune.pickle          10_src_step3_pruneloss_diff.pickle\n",
      " 3_src_step1_pruneloss.pickle      10_src_step4_mstep0.pickle\n",
      " 4_src_step1_pruneloss_diff.pickle 10_tgt_step3_pruneloss_diff.pickle\n",
      " 4_src_step2_mstep0.pickle         10_tgt_step4_mstep0.pickle\n",
      " 4_tgt_step1_pruneloss_diff.pickle 11_src_step4_mstep1.pickle\n",
      " 4_tgt_step2_mstep0.pickle         11_tgt_step4_mstep1.pickle\n",
      " 5_src_step2_mstep1.pickle         12_src_step4_prune.pickle\n",
      " 5_tgt_step2_mstep1.pickle         12_src_step4_pruneloss.pickle\n",
      " 6_src_step2_prune.pickle          13_src_step4_pruneloss_diff.pickle\n",
      " 6_src_step2_pruneloss.pickle      13_src_step5_mstep0.pickle\n",
      " 7_src_step2_pruneloss_diff.pickle 13_tgt_step4_pruneloss_diff.pickle\n",
      " 7_src_step3_mstep0.pickle         13_tgt_step5_mstep0.pickle\n",
      " 7_tgt_step2_pruneloss_diff.pickle 14_src_step5_mstep1.pickle\n",
      " 7_tgt_step3_mstep0.pickle         14_tgt_step5_mstep1.pickle\n"
     ]
    }
   ],
   "source": [
    "! ls  $di"
   ]
  },
  {
   "cell_type": "code",
   "execution_count": 44,
   "metadata": {},
   "outputs": [],
   "source": [
    "all_files  =! ls $di\n",
    "pruned_voc_files = !ls $di | grep pruneloss | grep -v diff\n",
    "pruned_alignloss_diff = !ls $di | grep pruneloss_diff"
   ]
  },
  {
   "cell_type": "code",
   "execution_count": 45,
   "metadata": {},
   "outputs": [
    {
     "name": "stdout",
     "output_type": "stream",
     "text": [
      "[' 1_src_step1_mstep0.pickle', ' 1_tgt_step1_mstep0.pickle', ' 2_src_step1_mstep1.pickle', ' 2_tgt_step1_mstep1.pickle', ' 3_src_step1_prune.pickle', ' 3_src_step1_pruneloss.pickle', ' 4_src_step1_pruneloss_diff.pickle', ' 4_src_step2_mstep0.pickle', ' 4_tgt_step1_pruneloss_diff.pickle', ' 4_tgt_step2_mstep0.pickle', ' 5_src_step2_mstep1.pickle', ' 5_tgt_step2_mstep1.pickle', ' 6_src_step2_prune.pickle', ' 6_src_step2_pruneloss.pickle', ' 7_src_step2_pruneloss_diff.pickle', ' 7_src_step3_mstep0.pickle', ' 7_tgt_step2_pruneloss_diff.pickle', ' 7_tgt_step3_mstep0.pickle', ' 8_src_step3_mstep1.pickle', ' 8_tgt_step3_mstep1.pickle', ' 9_src_step3_prune.pickle', ' 9_src_step3_pruneloss.pickle', '10_src_step3_pruneloss_diff.pickle', '10_src_step4_mstep0.pickle', '10_tgt_step3_pruneloss_diff.pickle', '10_tgt_step4_mstep0.pickle', '11_src_step4_mstep1.pickle', '11_tgt_step4_mstep1.pickle', '12_src_step4_prune.pickle', '12_src_step4_pruneloss.pickle', '13_src_step4_pruneloss_diff.pickle', '13_src_step5_mstep0.pickle', '13_tgt_step4_pruneloss_diff.pickle', '13_tgt_step5_mstep0.pickle', '14_src_step5_mstep1.pickle', '14_tgt_step5_mstep1.pickle']\n",
      "[' 3_src_step1_pruneloss.pickle', ' 6_src_step2_pruneloss.pickle', ' 9_src_step3_pruneloss.pickle', '12_src_step4_pruneloss.pickle']\n",
      "[' 4_src_step1_pruneloss_diff.pickle', ' 4_tgt_step1_pruneloss_diff.pickle', ' 7_src_step2_pruneloss_diff.pickle', ' 7_tgt_step2_pruneloss_diff.pickle', '10_src_step3_pruneloss_diff.pickle', '10_tgt_step3_pruneloss_diff.pickle', '13_src_step4_pruneloss_diff.pickle', '13_tgt_step4_pruneloss_diff.pickle']\n"
     ]
    }
   ],
   "source": [
    "print(all_files)\n",
    "print(pruned_voc_files)\n",
    "print(pruned_alignloss_diff)"
   ]
  },
  {
   "cell_type": "code",
   "execution_count": 46,
   "metadata": {},
   "outputs": [],
   "source": [
    "pickles=[]"
   ]
  },
  {
   "cell_type": "code",
   "execution_count": 47,
   "metadata": {},
   "outputs": [],
   "source": [
    "for file in files:\n",
    "    break\n",
    "    with open(di+file,\"rb\") as f:\n",
    "        pickles.append(pickle.load(f))"
   ]
  },
  {
   "cell_type": "code",
   "execution_count": 48,
   "metadata": {},
   "outputs": [],
   "source": [
    "prune_voc_pickles=[]\n",
    "for file in pruned_voc_files:\n",
    "    with open(di+file,\"rb\") as f:\n",
    "        prune_voc_pickles.append(pickle.load(f))"
   ]
  },
  {
   "cell_type": "code",
   "execution_count": null,
   "metadata": {},
   "outputs": [],
   "source": [
    "pickles[0].keys()"
   ]
  },
  {
   "cell_type": "code",
   "execution_count": 50,
   "metadata": {},
   "outputs": [
    {
     "name": "stdout",
     "output_type": "stream",
     "text": [
      "step 0######\n",
      "remain_avg_align_loss=> 0.4378783352063113\n",
      "remain_avg_LM_loss=> 0.005495928346054029\n",
      "#\n",
      "remove_avg_align_loss=> -0.11713009882461176\n",
      "remove_avg_LM_loss=> 0.0036760845746887376\n",
      "step 1######\n",
      "remain_avg_align_loss=> 0.6223537353173785\n",
      "remain_avg_LM_loss=> 0.0076719140877247955\n",
      "#\n",
      "remove_avg_align_loss=> -0.022972800890811593\n",
      "remove_avg_LM_loss=> 0.006334314678028819\n",
      "step 2######\n",
      "remain_avg_align_loss=> 0.7812561370063358\n",
      "remain_avg_LM_loss=> 0.010733687362600632\n",
      "#\n",
      "remove_avg_align_loss=> 0.22965644555342798\n",
      "remove_avg_LM_loss=> 0.007950188180445333\n",
      "step 3######\n",
      "remain_avg_align_loss=> 0.8219923854191028\n",
      "remain_avg_LM_loss=> 0.012368048506000996\n",
      "#\n",
      "remove_avg_align_loss=> 0.17531647688078883\n",
      "remove_avg_LM_loss=> 0.009315863993653705\n"
     ]
    }
   ],
   "source": [
    "#alignlossの方が桁が大きい。-.LM lossに比べて影響が大きい\n",
    "for i,pic in enumerate(prune_voc_pickles):\n",
    "    remain_avg_align_loss= sum([pic[\"remain\"][v][\"Align_loss\"] for v in pic[\"remain\"]])/len(pic[\"remain\"])\n",
    "    remain_avg_LM_loss= sum([pic[\"remain\"][v][\"LM_loss\"] for v in pic[\"remain\"]])/len(pic[\"remain\"])\n",
    "    remove_avg_align_loss= sum([pic[\"remove\"][v][\"Align_loss\"] for v in pic[\"remove\"]])/len(pic[\"remove\"])\n",
    "    remove_avg_LM_loss= sum([pic[\"remove\"][v][\"LM_loss\"] for v in pic[\"remove\"]])/len(pic[\"remove\"])\n",
    "    print(\"step {}######\".format(i))\n",
    "    print(\"remain_avg_align_loss=>\",remain_avg_align_loss)\n",
    "    print(\"remain_avg_LM_loss=>\",remain_avg_LM_loss)\n",
    "    print(\"#\")\n",
    "    print(\"remove_avg_align_loss=>\",remove_avg_align_loss)\n",
    "    print(\"remove_avg_LM_loss=>\",remove_avg_LM_loss)"
   ]
  },
  {
   "cell_type": "code",
   "execution_count": 51,
   "metadata": {},
   "outputs": [
    {
     "name": "stdout",
     "output_type": "stream",
     "text": [
      "align:len2 av0.4266061309193182\n",
      "len3 av0.42945554782295003\n",
      "len4 av0.44177875913933795\n",
      "len5 av0.463372294718772\n",
      "len6 av0.4437014773647111\n",
      "len7 av0.46691097150637506\n",
      "len8 av0.4523409723724124\n",
      "len9 av0.4253532477497956\n",
      "len10 av0.5357500318518459\n",
      "len11 av0.4683683836011656\n",
      "len12 av0.44710136062750583\n",
      "len13 av0.8541713540936249\n",
      "len14 av0.8055494293814615\n",
      "len15 av0.4176313406497213\n",
      "len16 av0.819106780400218\n",
      "LM:len2 av0.006189741132526398\n",
      "len3 av0.005124237874729189\n",
      "len4 av0.005071922935776316\n",
      "len5 av0.0047078087263038165\n",
      "len6 av0.004611327431059754\n",
      "len7 av0.005597485516424461\n",
      "len8 av0.005587804268068721\n",
      "len9 av0.006486834829820225\n",
      "len10 av0.008767246123724521\n",
      "len11 av0.008922687776573679\n",
      "len12 av0.014441641712333166\n",
      "len13 av0.020467682521656153\n",
      "len14 av0.014330535156651433\n",
      "len15 av0.011424449291950235\n",
      "len16 av0.02259368028428701\n",
      "align:len2 av0.5447284607118958\n",
      "len3 av0.627842870178361\n",
      "len4 av0.6654625045751601\n",
      "len5 av0.6862873699819902\n",
      "len6 av0.7037396566316946\n",
      "len7 av0.7163737348037086\n",
      "len8 av0.7164966677205812\n",
      "len9 av0.7122130046596019\n",
      "len10 av0.8618458348763361\n",
      "len11 av0.6143268594271435\n",
      "len12 av0.7192975010339947\n",
      "len13 av1.0720691601886978\n",
      "len14 av1.0771968298849228\n",
      "len15 av0.8781905983531857\n",
      "len16 av1.081292271126932\n",
      "LM:len2 av0.009319885383605502\n",
      "len3 av0.007082511914201494\n",
      "len4 av0.006615345002309802\n",
      "len5 av0.0057499168914691146\n",
      "len6 av0.00570790983364702\n",
      "len7 av0.007798654095729582\n",
      "len8 av0.006867663602532143\n",
      "len9 av0.00851795640387603\n",
      "len10 av0.01042813128784815\n",
      "len11 av0.013337185632802883\n",
      "len12 av0.02346187406551301\n",
      "len13 av0.02549391374367196\n",
      "len14 av0.016669586522596893\n",
      "len15 av0.014658060025271646\n",
      "len16 av0.0395618877059246\n",
      "align:len2 av0.614182867137209\n",
      "len3 av0.7825958065168351\n",
      "len4 av0.8564030639379449\n",
      "len5 av0.9182835464839804\n",
      "len6 av0.9629112061377484\n",
      "len7 av0.9738255036891202\n",
      "len8 av0.9853606130445102\n",
      "len9 av0.9450115206437262\n",
      "len10 av1.082882420445533\n",
      "len11 av0.8126355748877144\n",
      "len12 av1.1388986139863995\n",
      "len13 av1.2413115259615117\n",
      "len14 av1.3238180703400495\n",
      "len15 av1.0757796394590382\n",
      "len16 av1.0881386319069684\n",
      "LM:len2 av0.013431545559864061\n",
      "len3 av0.011132184355921108\n",
      "len4 av0.007896426786280083\n",
      "len5 av0.0077546669980448945\n",
      "len6 av0.007623331021054405\n",
      "len7 av0.010841780096345833\n",
      "len8 av0.00896309266275264\n",
      "len9 av0.010858868103562902\n",
      "len10 av0.014884845749347753\n",
      "len11 av0.019302768590359433\n",
      "len12 av0.027678035920532106\n",
      "len13 av0.030851314767893132\n",
      "len14 av0.01816523525279583\n",
      "len15 av0.021291060333724708\n",
      "len16 av0.0437450800731753\n",
      "align:len2 av0.6031033822426347\n",
      "len3 av0.8180325799246427\n",
      "len4 av0.9162688144110842\n",
      "len5 av0.990949700692961\n",
      "len6 av1.0525205275339367\n",
      "len7 av1.0558513576737558\n",
      "len8 av1.050692666927687\n",
      "len9 av1.013970245692925\n",
      "len10 av1.157262449467469\n",
      "len11 av1.0275488718888228\n",
      "len12 av1.1922090109664585\n",
      "len13 av1.2236935544882444\n",
      "len14 av1.2125115752628377\n",
      "len15 av1.2174814872549207\n",
      "len16 av1.1991153143879472\n",
      "LM:len2 av0.01598722694667965\n",
      "len3 av0.012520834939523419\n",
      "len4 av0.008910626530832567\n",
      "len5 av0.009118830398629426\n",
      "len6 av0.009230286819628583\n",
      "len7 av0.012568601321129594\n",
      "len8 av0.010063032662029783\n",
      "len9 av0.012099619358765412\n",
      "len10 av0.017069859533425453\n",
      "len11 av0.021920244837773616\n",
      "len12 av0.03028911391546567\n",
      "len13 av0.03216837527359902\n",
      "len14 av0.021295598196465215\n",
      "len15 av0.02149296902024134\n",
      "len16 av0.04453421404376087\n"
     ]
    }
   ],
   "source": [
    "#長い単語ほど、alignlossの値が大きい。->長い単語が残りやすい(freqが多いほどalignlossが小さくなるとかになってる?)\n",
    "for i,pic in enumerate(prune_voc_pickles):\n",
    "    remain_align_len=defaultdict(list)\n",
    "    remain_LM_len = defaultdict(list)\n",
    "    remove_align_len=defaultdict(list)\n",
    "    remove_LM_len=defaultdict(list)\n",
    "    for v in pic[\"remain\"]:\n",
    "        remain_align_len[len(v)].append(pic[\"remain\"][v][\"Align_loss\"])\n",
    "        remain_LM_len[len(v)].append(pic[\"remain\"][v][\"LM_loss\"])\n",
    "    \n",
    "    for v in  pic[\"remove\"]:\n",
    "        remove_align_len[len(v)].append(pic[\"remove\"][v][\"Align_loss\"])\n",
    "        remove_LM_len[len(v)].append(pic[\"remove\"][v][\"LM_loss\"])\n",
    "    remain_align_res = list(sorted([(v,\"len{} av{}\".format(v,sum(remain_align_len[v])/len(remain_align_len[v]))) for v in remain_align_len.keys()]))\n",
    "    remain_LM_res = list(sorted([(v,\"len{} av{}\".format(v,sum(remain_LM_len[v])/len(remain_LM_len[v]))) for v in remain_LM_len.keys()]))\n",
    "    print(\"align:\"+\"\\n\".join([v[1] for v  in remain_align_res]))\n",
    "    print(\"LM:\"+\"\\n\".join([v[1] for v  in remain_LM_res]))"
   ]
  },
  {
   "cell_type": "code",
   "execution_count": 52,
   "metadata": {},
   "outputs": [],
   "source": [
    "#prune_voc_pickles[3]"
   ]
  },
  {
   "cell_type": "code",
   "execution_count": 53,
   "metadata": {},
   "outputs": [],
   "source": [
    "pruned_alignloss_diff_pickels=[]\n",
    "for file in pruned_alignloss_diff:\n",
    "    with open(di+file,\"rb\") as f:\n",
    "        pruned_alignloss_diff_pickels.append(pickle.load(f))"
   ]
  },
  {
   "cell_type": "code",
   "execution_count": 54,
   "metadata": {},
   "outputs": [
    {
     "name": "stdout",
     "output_type": "stream",
     "text": [
      "{'algin_before': -2.8967265260176704, 'align_after': -2.8825625971597733, 'gain': 0.01416392885789719}\n",
      "{'algin_before': -2.6656178218899838, 'align_after': -2.8825625971597733, 'gain': -0.2169447752697895}\n",
      "{'algin_before': -2.8752452705190383, 'align_after': -2.8867395176224147, 'gain': -0.01149424710337632}\n",
      "{'algin_before': -2.7311852444384837, 'align_after': -2.8867395176224147, 'gain': -0.155554273183931}\n",
      "{'algin_before': -2.884226044704115, 'align_after': -2.9411083332937196, 'gain': -0.056882288589604535}\n",
      "{'algin_before': -2.778552143588447, 'align_after': -2.9411083332937196, 'gain': -0.16255618970527275}\n",
      "{'algin_before': -2.943428515822479, 'align_after': -2.9517435558777967, 'gain': -0.008315040055317802}\n",
      "{'algin_before': -2.8127533547053596, 'align_after': -2.9517435558777967, 'gain': -0.1389902011724371}\n"
     ]
    }
   ],
   "source": [
    "#scoreわるくなってるのでは。(長さの正説があるので、長さでわる)\n",
    "for i,pic in enumerate(pruned_alignloss_diff_pickels):\n",
    "    print(pic)"
   ]
  },
  {
   "cell_type": "code",
   "execution_count": null,
   "metadata": {},
   "outputs": [],
   "source": []
  }
 ],
 "metadata": {
  "kernelspec": {
   "display_name": "Python 3",
   "language": "python",
   "name": "python3"
  },
  "language_info": {
   "codemirror_mode": {
    "name": "ipython",
    "version": 3
   },
   "file_extension": ".py",
   "mimetype": "text/x-python",
   "name": "python",
   "nbconvert_exporter": "python",
   "pygments_lexer": "ipython3",
   "version": "3.7.3"
  }
 },
 "nbformat": 4,
 "nbformat_minor": 4
}
